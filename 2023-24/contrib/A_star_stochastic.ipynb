{
 "cells": [
  {
   "cell_type": "markdown",
   "metadata": {},
   "source": [
    "Copyright **`(c)`** 2023 Edoardo Vay  `<vay.edoardo@gmail.com>`\n",
    "\n",
    "<https://github.com/Edoxy>"
   ]
  },
  {
   "cell_type": "code",
   "execution_count": 1,
   "metadata": {},
   "outputs": [
    {
     "name": "stderr",
     "output_type": "stream",
     "text": [
      "/Users/edovay/Documents/code/Polito_Code/ING_MAT/ANNO_2/ComputationalIntelligence/.venv/lib/python3.12/site-packages/tqdm/auto.py:21: TqdmWarning: IProgress not found. Please update jupyter and ipywidgets. See https://ipywidgets.readthedocs.io/en/stable/user_install.html\n",
      "  from .autonotebook import tqdm as notebook_tqdm\n"
     ]
    }
   ],
   "source": [
    "import numpy as np\n",
    "from functools import reduce\n",
    "from random import random, seed\n",
    "from queue import PriorityQueue\n",
    "from collections import namedtuple\n",
    "from scipy.stats import binom\n",
    "import scipy.special as sp\n",
    "\n",
    "from tqdm.auto import tqdm"
   ]
  },
  {
   "cell_type": "markdown",
   "metadata": {},
   "source": [
    "# Problem Generation"
   ]
  },
  {
   "cell_type": "code",
   "execution_count": 2,
   "metadata": {},
   "outputs": [],
   "source": [
    "seed(0)\n",
    "PROBABILITY = 0.3\n",
    "PROBLEM_SIZE = 100\n",
    "NUM_SETS = 200\n",
    "\n",
    "# 20% prob of being true using array compriansion and then converting to nparray\n",
    "SETS = tuple(\n",
    "    np.array([random() < PROBABILITY for _ in range(PROBLEM_SIZE)])\n",
    "    for _ in range(NUM_SETS)\n",
    ")\n",
    "\n",
    "## removes double sets\n",
    "SETS = set(tuple(tuple(set_) for set_ in SETS))\n",
    "SETS = list(np.array(set_) for set_ in SETS)\n",
    "\n",
    "## sort elements from the one with most zeros\n",
    "SETS.sort(key=lambda x: -sum(x))\n",
    "SETS = tuple(SETS)\n",
    "NUM_SETS = len(SETS)\n",
    "\n",
    "# create named tuple\n",
    "State = namedtuple(\"State\", [\"taken\", \"not_taken\"])"
   ]
  },
  {
   "cell_type": "code",
   "execution_count": 3,
   "metadata": {},
   "outputs": [],
   "source": [
    "def goal_check(state):\n",
    "    if state[0] == list() or state[0] == set():\n",
    "        return False\n",
    "    return np.all(reduce(np.logical_or, [SETS[i] for i in state[0]]))\n",
    "\n",
    "\n",
    "assert goal_check((list(range(NUM_SETS)), list())), \"Problem not solvable\""
   ]
  },
  {
   "cell_type": "markdown",
   "metadata": {},
   "source": [
    "# Stochastic approach"
   ]
  },
  {
   "cell_type": "markdown",
   "metadata": {},
   "source": [
    "### Probability estimation "
   ]
  },
  {
   "cell_type": "code",
   "execution_count": 4,
   "metadata": {},
   "outputs": [],
   "source": [
    "### PROBABILISTIC HEURISTIC ###\n",
    "def prob_estimation(n, *, flag=1):\n",
    "    \"\"\"\n",
    "    n: number of zeros\n",
    "    flag = 1 (Default): Compute the probability that we generate 1 SET that exactly covers the zeros that we have in this state\n",
    "    flag = 2: Compute the probability that we generate 2 SETS that together cover exactily the zeros we have in the state\n",
    "    \"\"\"\n",
    "    if flag == 1:\n",
    "        return PROBABILITY**n\n",
    "    elif flag == 2:\n",
    "        p = 0\n",
    "        # is sums over all the possible cofigurations of two tiles that\n",
    "        # it can have with that nuber of remaning spaces\n",
    "        for i in range(1, n):\n",
    "            # sum over all the possible i, the probability of having a set that covers i spaces (Binomial distribution) and covering the\n",
    "            # remaning spaces with one set;\n",
    "            p += binom.pmf(i, n, PROBABILITY) * PROBABILITY ** (n - i)\n",
    "        return p"
   ]
  },
  {
   "cell_type": "markdown",
   "metadata": {},
   "source": [
    "### Stochastic heuristic definition v1"
   ]
  },
  {
   "cell_type": "code",
   "execution_count": 5,
   "metadata": {},
   "outputs": [],
   "source": [
    "def h_p(state):\n",
    "    \"\"\"\n",
    "    Stochastic heuristic function based on the binomial distribution\n",
    "    alpha: probability threshold that determins the probability of not being optimistic\n",
    "    \"\"\"\n",
    "\n",
    "    alpha = 0.05\n",
    "    # first part is deterministic\n",
    "    reduction = reduce(np.logical_or, [SETS[i] for i in state[0]])\n",
    "    n_zero = PROBLEM_SIZE - np.sum(reduction)\n",
    "    if n_zero < 2:\n",
    "        return n_zero\n",
    "    else:\n",
    "        n_not_taken = len(state.not_taken)\n",
    "        # calculate the probability of having in the not_taken a set that covers exactily the remaning spaces\n",
    "        # more precisely it calculates (1 - Prob(not having any set that covers the remaning spaces))\n",
    "        if (1 - (1 - prob_estimation(n_zero, flag=1)) ** n_not_taken) > alpha:\n",
    "            # being the steps dicrete, we add a priority based on the number of remaning spaces without ever overestimating\n",
    "            return 1 + n_zero / PROBLEM_SIZE\n",
    "\n",
    "        elif (\n",
    "            1 - (1 - prob_estimation(n_zero, flag=2)) ** sp.binom(n_not_taken, 2)\n",
    "        ) > alpha: # if it's very improbable that we can finish with one set, we esimate the same for two\n",
    "            return 2 + n_zero / PROBLEM_SIZE\n",
    "        else:\n",
    "            return 3 + n_zero / PROBLEM_SIZE\n",
    "\n",
    "\n",
    "def a_star_distance_p(state):\n",
    "    return len(state.taken) + h_p(state)"
   ]
  },
  {
   "cell_type": "markdown",
   "metadata": {},
   "source": [
    "### Stochastic heuristic definition v2"
   ]
  },
  {
   "cell_type": "code",
   "execution_count": 6,
   "metadata": {},
   "outputs": [],
   "source": [
    "# optimized version that saves the probability value in a dictionary making it run much faster\n",
    "# in fact the probability calculationa are only based on the number of not covered spaces ('zeros') indipendently from the set shape\n",
    "global_LookupTable_p = dict()\n",
    "\n",
    "\n",
    "def h_p2(state):\n",
    "    \"\"\"\n",
    "    Stochastic heuristic function based on the binomial distribution\n",
    "    alpha: probability threshold\n",
    "    \"\"\"\n",
    "    alpha = 0.05\n",
    "    reduction = reduce(np.logical_or, [SETS[i] for i in state[0]])\n",
    "    n_zero = PROBLEM_SIZE - np.sum(reduction)\n",
    "    if n_zero < 2:\n",
    "        return n_zero\n",
    "    else:\n",
    "        n_not_taken = len(state.not_taken)\n",
    "\n",
    "        if (n_zero, 1) not in global_LookupTable_p:\n",
    "            global_LookupTable_p[(n_zero, 1)] = prob_estimation(n_zero, flag=1)\n",
    "        if (n_zero, 2) not in global_LookupTable_p:\n",
    "            global_LookupTable_p[(n_zero, 2)] = prob_estimation(n_zero, flag=2)\n",
    "\n",
    "        if (1 - (1 - global_LookupTable_p[(n_zero, 1)]) ** n_not_taken) > alpha:\n",
    "            return n_zero / PROBLEM_SIZE\n",
    "\n",
    "        elif (\n",
    "            1 - (1 - global_LookupTable_p[(n_zero, 2)]) ** sp.binom(n_not_taken, 2)\n",
    "        ) > alpha:\n",
    "            return 1 + n_zero / PROBLEM_SIZE\n",
    "        else:\n",
    "            return 2 + n_zero / PROBLEM_SIZE\n",
    "\n",
    "\n",
    "def a_star_distance_p2(state):\n",
    "    return len(state.taken) + h_p2(state)"
   ]
  },
  {
   "cell_type": "markdown",
   "metadata": {},
   "source": [
    "### Stochastic heuristic definition v3"
   ]
  },
  {
   "cell_type": "code",
   "execution_count": 7,
   "metadata": {},
   "outputs": [],
   "source": [
    "# final oprimization of the heuristic also saves the value of the probabilty basend on the number of not_taken that remain in the \n",
    "# state, further optimizing computational time. To reduce the number of value to save, we round the probability calculations so that \n",
    "# if the value are sufficiently close, we can use the precomputed one\n",
    "prob_table = dict()\n",
    "binom_table = dict()\n",
    "\n",
    "\n",
    "def h_p3(state):\n",
    "    \"\"\"\n",
    "    Stochastic heuristic function based on the binomial distribution\n",
    "    state: a named tuple State() that rappresents a state in the problem\n",
    "\n",
    "    ALPHA: probability of overestimating\n",
    "    ROUNDING: number of digits used to round the probability\n",
    "    \"\"\"\n",
    "    ALPHA = 0.05\n",
    "    ROUNDING = 8\n",
    "\n",
    "    reduction = reduce(np.logical_or, [SETS[i] for i in state[0]])\n",
    "    n_zero = PROBLEM_SIZE - np.sum(reduction)\n",
    "    if n_zero < 2:\n",
    "        return n_zero\n",
    "    else:\n",
    "        n_not_taken = len(state.not_taken)\n",
    "\n",
    "        ## table check\n",
    "        if (n_zero, 1) not in prob_table:\n",
    "            prob_table[(n_zero, 1)] = round(prob_estimation(n_zero, flag=1), ROUNDING)\n",
    "        if (n_zero, 2) not in prob_table:\n",
    "            prob_table[(n_zero, 2)] = round(prob_estimation(n_zero, flag=2), ROUNDING)\n",
    "\n",
    "        if (prob_table[(n_zero, 1)], n_not_taken) not in binom_table:\n",
    "            binom_table[(prob_table[(n_zero, 1)], n_not_taken)] = 1 - (\n",
    "                (1 - prob_table[(n_zero, 1)]) ** n_not_taken\n",
    "            )\n",
    "        if (prob_table[(n_zero, 2)], n_not_taken) not in binom_table:\n",
    "            binom_table[(prob_table[(n_zero, 2)], n_not_taken)] = 1 - (\n",
    "                (1 - prob_table[(n_zero, 2)]) ** sp.binom(n_not_taken, 2)\n",
    "            )\n",
    "        ## end table check\n",
    "\n",
    "        if binom_table[(prob_table[(n_zero, 1)], n_not_taken)] > ALPHA:\n",
    "            return 1 - binom_table[(prob_table[(n_zero, 1)], n_not_taken)]\n",
    "\n",
    "        elif binom_table[(prob_table[(n_zero, 2)], n_not_taken)] > ALPHA:\n",
    "            return 1 + 1 - binom_table[(prob_table[(n_zero, 2)], n_not_taken)]\n",
    "\n",
    "        else:\n",
    "            return 2 + 1 - binom_table[(prob_table[(n_zero, 2)], n_not_taken)]\n",
    "\n",
    "\n",
    "def a_star_distance_p3(state):\n",
    "    return len(state.taken) + h_p3(state)"
   ]
  },
  {
   "cell_type": "markdown",
   "metadata": {},
   "source": [
    "# A* algorithm"
   ]
  },
  {
   "cell_type": "code",
   "execution_count": 8,
   "metadata": {},
   "outputs": [],
   "source": [
    "def action_func(state, action_index):\n",
    "    '''\n",
    "    This function creates the new element to add in the queue, based on the fact that we are using a list of ordered index of sets\n",
    "    in this way we avoid putting in queue the same state more than one tiime\n",
    "    '''\n",
    "    new_taken = state.taken.copy()\n",
    "    new_taken.append(state.not_taken[action_index])\n",
    "    return State(new_taken, state.not_taken.copy()[action_index + 1 :])\n",
    "\n",
    "\n",
    "# generic A star implementation\n",
    "def A_star(init_state, action_func, goal_check, valid_dist):\n",
    "    frontier = PriorityQueue()\n",
    "    counter = 0\n",
    "    current_state = init_state\n",
    "\n",
    "    with tqdm(total=None) as pbar:\n",
    "        while not goal_check(current_state):\n",
    "            counter += 1\n",
    "\n",
    "            for action_index in range(len(current_state.not_taken)):\n",
    "                new_state = action_func(current_state, action_index)\n",
    "\n",
    "                priority = valid_dist(new_state)\n",
    "                frontier.put((priority, new_state))\n",
    "            frontier.task_done()\n",
    "            _, current_state = frontier.get()\n",
    "            pbar.update(1)\n",
    "        pbar.close()\n",
    "    return counter, current_state"
   ]
  },
  {
   "cell_type": "markdown",
   "metadata": {},
   "source": [
    "# Testing"
   ]
  },
  {
   "cell_type": "markdown",
   "metadata": {},
   "source": [
    "## Stochastic A*"
   ]
  },
  {
   "cell_type": "markdown",
   "metadata": {},
   "source": [
    "### Version 1"
   ]
  },
  {
   "cell_type": "code",
   "execution_count": 9,
   "metadata": {},
   "outputs": [],
   "source": [
    "# # probilistic h\n",
    "# counter, sol_state = A_star(\n",
    "#     State(list(), list(range(NUM_SETS))),\n",
    "#     action_list_func,\n",
    "#     action_func,\n",
    "#     goal_check,\n",
    "#     a_star_distance_p,\n",
    "# )\n",
    "# print(f\"Solved in {counter:,} steps, with {len(sol_state.taken)} sets\")\n",
    "# print(sol_state.taken)\n",
    "# sum(sum([SETS[i] for i in sol_state.taken]))"
   ]
  },
  {
   "cell_type": "markdown",
   "metadata": {},
   "source": [
    "### Version 2\n",
    "Using 1 dictionary to store probability calculation"
   ]
  },
  {
   "cell_type": "code",
   "execution_count": 10,
   "metadata": {},
   "outputs": [],
   "source": [
    "# # probilistic h\n",
    "# counter, sol_state = A_star(\n",
    "#     State(list(), list(range(NUM_SETS))),\n",
    "#     action_func,\n",
    "#     goal_check,\n",
    "#     a_star_distance_p2,\n",
    "# )\n",
    "# print(f\"Solved in {counter:,} steps, with {len(sol_state.taken)} sets\")\n",
    "# print(sol_state.taken)\n"
   ]
  },
  {
   "cell_type": "markdown",
   "metadata": {},
   "source": [
    "### Version 3\n",
    "Using 2 dictionaries to store calculation and added round function to store probabilities"
   ]
  },
  {
   "cell_type": "code",
   "execution_count": 13,
   "metadata": {},
   "outputs": [
    {
     "name": "stderr",
     "output_type": "stream",
     "text": [
      "380it [00:00, 952.98it/s] \n"
     ]
    },
    {
     "name": "stdout",
     "output_type": "stream",
     "text": [
      "Solved in 380 steps, with 5 sets\n",
      "[0, 1, 8, 10, 19]\n"
     ]
    }
   ],
   "source": [
    "# probilistic h\n",
    "counter, sol_state = A_star(\n",
    "    State(list(), list(range(NUM_SETS))),\n",
    "    action_func,\n",
    "    goal_check,\n",
    "    a_star_distance_p3,\n",
    ")\n",
    "print(f\"Solved in {counter:,} steps, with {len(sol_state.taken)} sets\")\n",
    "print(sol_state.taken)"
   ]
  }
 ],
 "metadata": {
  "kernelspec": {
   "display_name": ".venv",
   "language": "python",
   "name": "python3"
  },
  "language_info": {
   "codemirror_mode": {
    "name": "ipython",
    "version": 3
   },
   "file_extension": ".py",
   "mimetype": "text/x-python",
   "name": "python",
   "nbconvert_exporter": "python",
   "pygments_lexer": "ipython3",
   "version": "3.12.0"
  }
 },
 "nbformat": 4,
 "nbformat_minor": 2
}
